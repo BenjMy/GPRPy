{
 "cells": [
  {
   "cell_type": "code",
   "execution_count": 17,
   "metadata": {},
   "outputs": [
    {
     "name": "stdout",
     "output_type": "stream",
     "text": [
      "\n",
      "  Cloning https://github.com/BenjMy/GPRPy to c:\\users\\gcass\\appdata\\local\\temp\\pip-req-build-2u199kg6\n",
      "Requirement already satisfied (use --upgrade to upgrade): gprpy==1.0.9 from git+https://github.com/BenjMy/GPRPy in c:\\users\\gcass\\anaconda3\\envs\\pg\\lib\\site-packages\n",
      "Requirement already satisfied: tqdm in c:\\users\\gcass\\anaconda3\\envs\\pg\\lib\\site-packages (from gprpy==1.0.9) (4.48.2)\n",
      "Requirement already satisfied: numpy in c:\\users\\gcass\\anaconda3\\envs\\pg\\lib\\site-packages (from gprpy==1.0.9) (1.16.5)\n",
      "Requirement already satisfied: scipy in c:\\users\\gcass\\anaconda3\\envs\\pg\\lib\\site-packages (from gprpy==1.0.9) (1.3.1)\n",
      "Requirement already satisfied: matplotlib in c:\\users\\gcass\\anaconda3\\envs\\pg\\lib\\site-packages (from gprpy==1.0.9) (3.3.2)\n",
      "Requirement already satisfied: Pmw in c:\\users\\gcass\\anaconda3\\envs\\pg\\lib\\site-packages (from gprpy==1.0.9) (2.0.1)\n",
      "Requirement already satisfied: pyevtk in c:\\users\\gcass\\anaconda3\\envs\\pg\\lib\\site-packages (from gprpy==1.0.9) (1.1.1)\n",
      "Requirement already satisfied: pyparsing!=2.0.4,!=2.1.2,!=2.1.6,>=2.0.3 in c:\\users\\gcass\\anaconda3\\envs\\pg\\lib\\site-packages (from matplotlib->gprpy==1.0.9) (2.4.7)\n",
      "Requirement already satisfied: cycler>=0.10 in c:\\users\\gcass\\anaconda3\\envs\\pg\\lib\\site-packages (from matplotlib->gprpy==1.0.9) (0.10.0)\n",
      "Requirement already satisfied: python-dateutil>=2.1 in c:\\users\\gcass\\anaconda3\\envs\\pg\\lib\\site-packages (from matplotlib->gprpy==1.0.9) (2.8.1)\n",
      "Requirement already satisfied: pillow>=6.2.0 in c:\\users\\gcass\\anaconda3\\envs\\pg\\lib\\site-packages (from matplotlib->gprpy==1.0.9) (8.0.1)\n",
      "Requirement already satisfied: kiwisolver>=1.0.1 in c:\\users\\gcass\\anaconda3\\envs\\pg\\lib\\site-packages (from matplotlib->gprpy==1.0.9) (1.2.0)\n",
      "Requirement already satisfied: certifi>=2020.06.20 in c:\\users\\gcass\\anaconda3\\envs\\pg\\lib\\site-packages (from matplotlib->gprpy==1.0.9) (2020.6.20)\n",
      "Requirement already satisfied: six in c:\\users\\gcass\\anaconda3\\envs\\pg\\lib\\site-packages (from cycler>=0.10->matplotlib->gprpy==1.0.9) (1.15.0)\n",
      "Building wheels for collected packages: gprpy\n",
      "  Building wheel for gprpy (setup.py): started\n",
      "  Building wheel for gprpy (setup.py): finished with status 'done'\n",
      "  Created wheel for gprpy: filename=gprpy-1.0.9-py3-none-any.whl size=3836955 sha256=a69d01ae1090a3c8e548696465ee2586a6073fbd1ce61b9bc2ea9907ad053d77\n",
      "  Stored in directory: C:\\Users\\gcass\\AppData\\Local\\Temp\\pip-ephem-wheel-cache-9gkcn41v\\wheels\\0e\\9b\\8b\\0c6826d7dede5fd45b2afd3b947264a3278d2a8a9227364795\n",
      "Successfully built gprpy\n"
     ]
    }
   ],
   "source": [
    "!pip install git+https://github.com/BenjMy/GPRPy\n",
    "import IPython\n",
    "IPython.display.clear_output()"
   ]
  },
  {
   "cell_type": "code",
   "execution_count": 7,
   "metadata": {},
   "outputs": [
    {
     "ename": "ModuleNotFoundError",
     "evalue": "No module named 'gprpy.toolbox'; 'gprpy' is not a package",
     "output_type": "error",
     "traceback": [
      "\u001b[1;31m---------------------------------------------------------------------------\u001b[0m",
      "\u001b[1;31mModuleNotFoundError\u001b[0m                       Traceback (most recent call last)",
      "\u001b[1;32m<ipython-input-7-781d2ba96764>\u001b[0m in \u001b[0;36m<module>\u001b[1;34m\u001b[0m\n\u001b[1;32m----> 1\u001b[1;33m \u001b[1;32mimport\u001b[0m \u001b[0mgprpy\u001b[0m \u001b[1;32mas\u001b[0m \u001b[0mgp\u001b[0m\u001b[1;33m\u001b[0m\u001b[1;33m\u001b[0m\u001b[0m\n\u001b[0m\u001b[0;32m      2\u001b[0m \u001b[0mmygpr\u001b[0m \u001b[1;33m=\u001b[0m \u001b[0mgp\u001b[0m\u001b[1;33m.\u001b[0m\u001b[0mgprpyProfile\u001b[0m\u001b[1;33m(\u001b[0m\u001b[1;33m)\u001b[0m\u001b[1;33m\u001b[0m\u001b[1;33m\u001b[0m\u001b[0m\n\u001b[0;32m      3\u001b[0m \u001b[0mmygpr\u001b[0m\u001b[1;33m.\u001b[0m\u001b[0mimportdata\u001b[0m\u001b[1;33m(\u001b[0m\u001b[1;34m'./gprpy/exampledata/GSSI/FILE____032.DZT'\u001b[0m\u001b[1;33m)\u001b[0m\u001b[1;33m\u001b[0m\u001b[1;33m\u001b[0m\u001b[0m\n\u001b[0;32m      4\u001b[0m \u001b[0mmygpr\u001b[0m\u001b[1;33m.\u001b[0m\u001b[0msetZeroTime\u001b[0m\u001b[1;33m(\u001b[0m\u001b[1;36m5\u001b[0m\u001b[1;33m)\u001b[0m\u001b[1;33m\u001b[0m\u001b[1;33m\u001b[0m\u001b[0m\n\u001b[0;32m      5\u001b[0m \u001b[0mmygpr\u001b[0m\u001b[1;33m.\u001b[0m\u001b[0mdewow\u001b[0m\u001b[1;33m(\u001b[0m\u001b[1;36m999999\u001b[0m\u001b[1;33m)\u001b[0m\u001b[1;33m\u001b[0m\u001b[1;33m\u001b[0m\u001b[0m\n",
      "\u001b[1;32mE:\\Padova\\Software\\GPRPy\\gprpy\\gprpy.py\u001b[0m in \u001b[0;36m<module>\u001b[1;34m\u001b[0m\n\u001b[0;32m      3\u001b[0m \u001b[1;32mimport\u001b[0m \u001b[0mmatplotlib\u001b[0m\u001b[1;33m.\u001b[0m\u001b[0mpyplot\u001b[0m \u001b[1;32mas\u001b[0m \u001b[0mplt\u001b[0m\u001b[1;33m\u001b[0m\u001b[1;33m\u001b[0m\u001b[0m\n\u001b[0;32m      4\u001b[0m \u001b[1;32mimport\u001b[0m \u001b[0mpickle\u001b[0m\u001b[1;33m\u001b[0m\u001b[1;33m\u001b[0m\u001b[0m\n\u001b[1;32m----> 5\u001b[1;33m \u001b[1;32mimport\u001b[0m \u001b[0mgprpy\u001b[0m\u001b[1;33m.\u001b[0m\u001b[0mtoolbox\u001b[0m\u001b[1;33m.\u001b[0m\u001b[0mgprIO_DT1\u001b[0m \u001b[1;32mas\u001b[0m \u001b[0mgprIO_DT1\u001b[0m\u001b[1;33m\u001b[0m\u001b[1;33m\u001b[0m\u001b[0m\n\u001b[0m\u001b[0;32m      6\u001b[0m \u001b[1;32mimport\u001b[0m \u001b[0mgprpy\u001b[0m\u001b[1;33m.\u001b[0m\u001b[0mtoolbox\u001b[0m\u001b[1;33m.\u001b[0m\u001b[0mgprIO_DZT\u001b[0m \u001b[1;32mas\u001b[0m \u001b[0mgprIO_DZT\u001b[0m\u001b[1;33m\u001b[0m\u001b[1;33m\u001b[0m\u001b[0m\n\u001b[0;32m      7\u001b[0m \u001b[1;32mimport\u001b[0m \u001b[0mgprpy\u001b[0m\u001b[1;33m.\u001b[0m\u001b[0mtoolbox\u001b[0m\u001b[1;33m.\u001b[0m\u001b[0mgprIO_BSQ\u001b[0m \u001b[1;32mas\u001b[0m \u001b[0mgprIO_BSQ\u001b[0m\u001b[1;33m\u001b[0m\u001b[1;33m\u001b[0m\u001b[0m\n",
      "\u001b[1;31mModuleNotFoundError\u001b[0m: No module named 'gprpy.toolbox'; 'gprpy' is not a package"
     ]
    }
   ],
   "source": [
    "import gprpy as gp\n",
    "mygpr = gp.gprpyProfile()\n",
    "mygpr.importdata('./gprpy/exampledata/GSSI/FILE____032.DZT')\n",
    "mygpr.setZeroTime(5)\n",
    "mygpr.dewow(999999)\n",
    "mygpr.remMeanTrace(9999999)\n",
    "mygpr.setVelocity(0.14)\n",
    "mygpr.fkMigration()\n",
    "mygpr.topoCorrect('./gprpy/exampledata/GSSI/FILE____032p.txt',delimiter='\\t')\n",
    "\n",
    "# To draw your picked line on top of your profile, after writing the script,\n",
    "# replace the plotting line\n",
    "\n",
    "# mygpr.printProfile('myFig.pdf', color='bwr',\n",
    "#                    contrast=4, yrng=[16.5,19.7],\n",
    "#                    xrng=[0,20.8], asp=2, dpi=600)\n",
    "\n",
    "# with the following few lines:\n",
    "\n",
    "import numpy as np\n",
    "pickeddata=np.loadtxt('./gprpy/exampledata/pickedSurfaceData/testpick2_profile.txt',delimiter='\\t')\n",
    "# In the previous line, replace the path/filename with the path/filename of the\n",
    "# picked points\n",
    "\n",
    "import matplotlib.pyplot as plt\n",
    "# The following line prepares the figure. Use the same variable values as the print command\n",
    "# you commented out earlier\n",
    "mygpr.showProfile(color='bwr', contrast=4, yrng=[16.5,19.7], xrng=[0,20.8], asp=2)\n",
    "# The following lines use Matplotlib, which has almost the same commands as Matlab\n",
    "# Here I'm plotting a line with the picked data\n",
    "plt.plot(pickeddata[:,0],pickeddata[:,1],color='green',linewidth=3)\n",
    "# Here I'm plotting the dots on top of it\n",
    "plt.plot(pickeddata[:,0],pickeddata[:,1],'ko',linewidth=1)\n",
    "# If you want to just look at it without creating a pdf, uncomment the following\n",
    "#plt.show()\n",
    "# To create a pdf, use the following\n",
    "plt.savefig('ProfileWithPicked.pdf',dpi=600)"
   ]
  }
 ],
 "metadata": {
  "kernelspec": {
   "display_name": "Python 3",
   "language": "python",
   "name": "python3"
  },
  "language_info": {
   "codemirror_mode": {
    "name": "ipython",
    "version": 3
   },
   "file_extension": ".py",
   "mimetype": "text/x-python",
   "name": "python",
   "nbconvert_exporter": "python",
   "pygments_lexer": "ipython3",
   "version": "3.7.8"
  }
 },
 "nbformat": 4,
 "nbformat_minor": 4
}
